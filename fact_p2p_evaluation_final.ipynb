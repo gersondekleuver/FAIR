{
 "nbformat": 4,
 "nbformat_minor": 0,
 "metadata": {
  "colab": {
   "provenance": [],
   "machine_shape": "hm"
  },
  "kernelspec": {
   "name": "python3",
   "display_name": "Python 3"
  },
  "language_info": {
   "name": "python"
  },
  "gpuClass": "standard",
  "accelerator": "GPU",
  "widgets": {
   "application/vnd.jupyter.widget-state+json": {
    "1fb5adf0e6444402ad08f328287f9d01": {
     "model_module": "@jupyter-widgets/controls",
     "model_name": "HBoxModel",
     "model_module_version": "1.5.0",
     "state": {
      "_dom_classes": [],
      "_model_module": "@jupyter-widgets/controls",
      "_model_module_version": "1.5.0",
      "_model_name": "HBoxModel",
      "_view_count": null,
      "_view_module": "@jupyter-widgets/controls",
      "_view_module_version": "1.5.0",
      "_view_name": "HBoxView",
      "box_style": "",
      "children": [
       "IPY_MODEL_1bc1ba0c075241879307f690a364712d",
       "IPY_MODEL_16f2a6fff42749eea268f8353e51c4c7",
       "IPY_MODEL_b494986494cf41bea07028a4a2925fa1"
      ],
      "layout": "IPY_MODEL_611f84645b7345a38ccee569a4d407ae"
     }
    },
    "1bc1ba0c075241879307f690a364712d": {
     "model_module": "@jupyter-widgets/controls",
     "model_name": "HTMLModel",
     "model_module_version": "1.5.0",
     "state": {
      "_dom_classes": [],
      "_model_module": "@jupyter-widgets/controls",
      "_model_module_version": "1.5.0",
      "_model_name": "HTMLModel",
      "_view_count": null,
      "_view_module": "@jupyter-widgets/controls",
      "_view_module_version": "1.5.0",
      "_view_name": "HTMLView",
      "description": "",
      "description_tooltip": null,
      "layout": "IPY_MODEL_db52c87ef9294cbbb0827085eebfc48d",
      "placeholder": "​",
      "style": "IPY_MODEL_5844dde5f0e04bce91022d53d40aa359",
      "value": "100%"
     }
    },
    "16f2a6fff42749eea268f8353e51c4c7": {
     "model_module": "@jupyter-widgets/controls",
     "model_name": "FloatProgressModel",
     "model_module_version": "1.5.0",
     "state": {
      "_dom_classes": [],
      "_model_module": "@jupyter-widgets/controls",
      "_model_module_version": "1.5.0",
      "_model_name": "FloatProgressModel",
      "_view_count": null,
      "_view_module": "@jupyter-widgets/controls",
      "_view_module_version": "1.5.0",
      "_view_name": "ProgressView",
      "bar_style": "success",
      "description": "",
      "description_tooltip": null,
      "layout": "IPY_MODEL_a2d9657eebd4432cb79efee5069af6d6",
      "max": 102502400,
      "min": 0,
      "orientation": "horizontal",
      "style": "IPY_MODEL_0134fcde8e204c18bb3be081c0905ec6",
      "value": 102502400
     }
    },
    "b494986494cf41bea07028a4a2925fa1": {
     "model_module": "@jupyter-widgets/controls",
     "model_name": "HTMLModel",
     "model_module_version": "1.5.0",
     "state": {
      "_dom_classes": [],
      "_model_module": "@jupyter-widgets/controls",
      "_model_module_version": "1.5.0",
      "_model_name": "HTMLModel",
      "_view_count": null,
      "_view_module": "@jupyter-widgets/controls",
      "_view_module_version": "1.5.0",
      "_view_name": "HTMLView",
      "description": "",
      "description_tooltip": null,
      "layout": "IPY_MODEL_fd36db33323f449dafbe5bd7443e99c0",
      "placeholder": "​",
      "style": "IPY_MODEL_5fcf0c78c2a448a78ec9978a0cd30237",
      "value": " 97.8M/97.8M [00:00&lt;00:00, 237MB/s]"
     }
    },
    "611f84645b7345a38ccee569a4d407ae": {
     "model_module": "@jupyter-widgets/base",
     "model_name": "LayoutModel",
     "model_module_version": "1.2.0",
     "state": {
      "_model_module": "@jupyter-widgets/base",
      "_model_module_version": "1.2.0",
      "_model_name": "LayoutModel",
      "_view_count": null,
      "_view_module": "@jupyter-widgets/base",
      "_view_module_version": "1.2.0",
      "_view_name": "LayoutView",
      "align_content": null,
      "align_items": null,
      "align_self": null,
      "border": null,
      "bottom": null,
      "display": null,
      "flex": null,
      "flex_flow": null,
      "grid_area": null,
      "grid_auto_columns": null,
      "grid_auto_flow": null,
      "grid_auto_rows": null,
      "grid_column": null,
      "grid_gap": null,
      "grid_row": null,
      "grid_template_areas": null,
      "grid_template_columns": null,
      "grid_template_rows": null,
      "height": null,
      "justify_content": null,
      "justify_items": null,
      "left": null,
      "margin": null,
      "max_height": null,
      "max_width": null,
      "min_height": null,
      "min_width": null,
      "object_fit": null,
      "object_position": null,
      "order": null,
      "overflow": null,
      "overflow_x": null,
      "overflow_y": null,
      "padding": null,
      "right": null,
      "top": null,
      "visibility": null,
      "width": null
     }
    },
    "db52c87ef9294cbbb0827085eebfc48d": {
     "model_module": "@jupyter-widgets/base",
     "model_name": "LayoutModel",
     "model_module_version": "1.2.0",
     "state": {
      "_model_module": "@jupyter-widgets/base",
      "_model_module_version": "1.2.0",
      "_model_name": "LayoutModel",
      "_view_count": null,
      "_view_module": "@jupyter-widgets/base",
      "_view_module_version": "1.2.0",
      "_view_name": "LayoutView",
      "align_content": null,
      "align_items": null,
      "align_self": null,
      "border": null,
      "bottom": null,
      "display": null,
      "flex": null,
      "flex_flow": null,
      "grid_area": null,
      "grid_auto_columns": null,
      "grid_auto_flow": null,
      "grid_auto_rows": null,
      "grid_column": null,
      "grid_gap": null,
      "grid_row": null,
      "grid_template_areas": null,
      "grid_template_columns": null,
      "grid_template_rows": null,
      "height": null,
      "justify_content": null,
      "justify_items": null,
      "left": null,
      "margin": null,
      "max_height": null,
      "max_width": null,
      "min_height": null,
      "min_width": null,
      "object_fit": null,
      "object_position": null,
      "order": null,
      "overflow": null,
      "overflow_x": null,
      "overflow_y": null,
      "padding": null,
      "right": null,
      "top": null,
      "visibility": null,
      "width": null
     }
    },
    "5844dde5f0e04bce91022d53d40aa359": {
     "model_module": "@jupyter-widgets/controls",
     "model_name": "DescriptionStyleModel",
     "model_module_version": "1.5.0",
     "state": {
      "_model_module": "@jupyter-widgets/controls",
      "_model_module_version": "1.5.0",
      "_model_name": "DescriptionStyleModel",
      "_view_count": null,
      "_view_module": "@jupyter-widgets/base",
      "_view_module_version": "1.2.0",
      "_view_name": "StyleView",
      "description_width": ""
     }
    },
    "a2d9657eebd4432cb79efee5069af6d6": {
     "model_module": "@jupyter-widgets/base",
     "model_name": "LayoutModel",
     "model_module_version": "1.2.0",
     "state": {
      "_model_module": "@jupyter-widgets/base",
      "_model_module_version": "1.2.0",
      "_model_name": "LayoutModel",
      "_view_count": null,
      "_view_module": "@jupyter-widgets/base",
      "_view_module_version": "1.2.0",
      "_view_name": "LayoutView",
      "align_content": null,
      "align_items": null,
      "align_self": null,
      "border": null,
      "bottom": null,
      "display": null,
      "flex": null,
      "flex_flow": null,
      "grid_area": null,
      "grid_auto_columns": null,
      "grid_auto_flow": null,
      "grid_auto_rows": null,
      "grid_column": null,
      "grid_gap": null,
      "grid_row": null,
      "grid_template_areas": null,
      "grid_template_columns": null,
      "grid_template_rows": null,
      "height": null,
      "justify_content": null,
      "justify_items": null,
      "left": null,
      "margin": null,
      "max_height": null,
      "max_width": null,
      "min_height": null,
      "min_width": null,
      "object_fit": null,
      "object_position": null,
      "order": null,
      "overflow": null,
      "overflow_x": null,
      "overflow_y": null,
      "padding": null,
      "right": null,
      "top": null,
      "visibility": null,
      "width": null
     }
    },
    "0134fcde8e204c18bb3be081c0905ec6": {
     "model_module": "@jupyter-widgets/controls",
     "model_name": "ProgressStyleModel",
     "model_module_version": "1.5.0",
     "state": {
      "_model_module": "@jupyter-widgets/controls",
      "_model_module_version": "1.5.0",
      "_model_name": "ProgressStyleModel",
      "_view_count": null,
      "_view_module": "@jupyter-widgets/base",
      "_view_module_version": "1.2.0",
      "_view_name": "StyleView",
      "bar_color": null,
      "description_width": ""
     }
    },
    "fd36db33323f449dafbe5bd7443e99c0": {
     "model_module": "@jupyter-widgets/base",
     "model_name": "LayoutModel",
     "model_module_version": "1.2.0",
     "state": {
      "_model_module": "@jupyter-widgets/base",
      "_model_module_version": "1.2.0",
      "_model_name": "LayoutModel",
      "_view_count": null,
      "_view_module": "@jupyter-widgets/base",
      "_view_module_version": "1.2.0",
      "_view_name": "LayoutView",
      "align_content": null,
      "align_items": null,
      "align_self": null,
      "border": null,
      "bottom": null,
      "display": null,
      "flex": null,
      "flex_flow": null,
      "grid_area": null,
      "grid_auto_columns": null,
      "grid_auto_flow": null,
      "grid_auto_rows": null,
      "grid_column": null,
      "grid_gap": null,
      "grid_row": null,
      "grid_template_areas": null,
      "grid_template_columns": null,
      "grid_template_rows": null,
      "height": null,
      "justify_content": null,
      "justify_items": null,
      "left": null,
      "margin": null,
      "max_height": null,
      "max_width": null,
      "min_height": null,
      "min_width": null,
      "object_fit": null,
      "object_position": null,
      "order": null,
      "overflow": null,
      "overflow_x": null,
      "overflow_y": null,
      "padding": null,
      "right": null,
      "top": null,
      "visibility": null,
      "width": null
     }
    },
    "5fcf0c78c2a448a78ec9978a0cd30237": {
     "model_module": "@jupyter-widgets/controls",
     "model_name": "DescriptionStyleModel",
     "model_module_version": "1.5.0",
     "state": {
      "_model_module": "@jupyter-widgets/controls",
      "_model_module_version": "1.5.0",
      "_model_name": "DescriptionStyleModel",
      "_view_count": null,
      "_view_module": "@jupyter-widgets/base",
      "_view_module_version": "1.2.0",
      "_view_name": "StyleView",
      "description_width": ""
     }
    },
    "cd216c365e594febaf9ed27574625551": {
     "model_module": "@jupyter-widgets/controls",
     "model_name": "HBoxModel",
     "model_module_version": "1.5.0",
     "state": {
      "_dom_classes": [],
      "_model_module": "@jupyter-widgets/controls",
      "_model_module_version": "1.5.0",
      "_model_name": "HBoxModel",
      "_view_count": null,
      "_view_module": "@jupyter-widgets/controls",
      "_view_module_version": "1.5.0",
      "_view_name": "HBoxView",
      "box_style": "",
      "children": [
       "IPY_MODEL_f048a78b79e142f0acc7abea660ca45f",
       "IPY_MODEL_87f80c72226144cfb172243fa41a8a7e",
       "IPY_MODEL_f8059193ceb04718a66e4b3c4f7baf81"
      ],
      "layout": "IPY_MODEL_cc361feff0ec46ab9f7b6442d01392ab"
     }
    },
    "f048a78b79e142f0acc7abea660ca45f": {
     "model_module": "@jupyter-widgets/controls",
     "model_name": "HTMLModel",
     "model_module_version": "1.5.0",
     "state": {
      "_dom_classes": [],
      "_model_module": "@jupyter-widgets/controls",
      "_model_module_version": "1.5.0",
      "_model_name": "HTMLModel",
      "_view_count": null,
      "_view_module": "@jupyter-widgets/controls",
      "_view_module_version": "1.5.0",
      "_view_name": "HTMLView",
      "description": "",
      "description_tooltip": null,
      "layout": "IPY_MODEL_d7f32bbd97b54d88a036d70d34502557",
      "placeholder": "​",
      "style": "IPY_MODEL_a63a3e53d2bf4e75929d63ef64b81b54",
      "value": "100%"
     }
    },
    "87f80c72226144cfb172243fa41a8a7e": {
     "model_module": "@jupyter-widgets/controls",
     "model_name": "FloatProgressModel",
     "model_module_version": "1.5.0",
     "state": {
      "_dom_classes": [],
      "_model_module": "@jupyter-widgets/controls",
      "_model_module_version": "1.5.0",
      "_model_name": "FloatProgressModel",
      "_view_count": null,
      "_view_module": "@jupyter-widgets/controls",
      "_view_module_version": "1.5.0",
      "_view_name": "ProgressView",
      "bar_style": "success",
      "description": "",
      "description_tooltip": null,
      "layout": "IPY_MODEL_7666c13fcdd64fbd994bf4aa0b0bad1d",
      "max": 46827520,
      "min": 0,
      "orientation": "horizontal",
      "style": "IPY_MODEL_dd7bd9454c0047588695b4d95500a11a",
      "value": 46827520
     }
    },
    "f8059193ceb04718a66e4b3c4f7baf81": {
     "model_module": "@jupyter-widgets/controls",
     "model_name": "HTMLModel",
     "model_module_version": "1.5.0",
     "state": {
      "_dom_classes": [],
      "_model_module": "@jupyter-widgets/controls",
      "_model_module_version": "1.5.0",
      "_model_name": "HTMLModel",
      "_view_count": null,
      "_view_module": "@jupyter-widgets/controls",
      "_view_module_version": "1.5.0",
      "_view_name": "HTMLView",
      "description": "",
      "description_tooltip": null,
      "layout": "IPY_MODEL_c4c2696c58494225bddbac23fffd4fb9",
      "placeholder": "​",
      "style": "IPY_MODEL_37ff385daa2841e6beb860a5ca45e536",
      "value": " 44.7M/44.7M [00:01&lt;00:00, 38.6MB/s]"
     }
    },
    "cc361feff0ec46ab9f7b6442d01392ab": {
     "model_module": "@jupyter-widgets/base",
     "model_name": "LayoutModel",
     "model_module_version": "1.2.0",
     "state": {
      "_model_module": "@jupyter-widgets/base",
      "_model_module_version": "1.2.0",
      "_model_name": "LayoutModel",
      "_view_count": null,
      "_view_module": "@jupyter-widgets/base",
      "_view_module_version": "1.2.0",
      "_view_name": "LayoutView",
      "align_content": null,
      "align_items": null,
      "align_self": null,
      "border": null,
      "bottom": null,
      "display": null,
      "flex": null,
      "flex_flow": null,
      "grid_area": null,
      "grid_auto_columns": null,
      "grid_auto_flow": null,
      "grid_auto_rows": null,
      "grid_column": null,
      "grid_gap": null,
      "grid_row": null,
      "grid_template_areas": null,
      "grid_template_columns": null,
      "grid_template_rows": null,
      "height": null,
      "justify_content": null,
      "justify_items": null,
      "left": null,
      "margin": null,
      "max_height": null,
      "max_width": null,
      "min_height": null,
      "min_width": null,
      "object_fit": null,
      "object_position": null,
      "order": null,
      "overflow": null,
      "overflow_x": null,
      "overflow_y": null,
      "padding": null,
      "right": null,
      "top": null,
      "visibility": null,
      "width": null
     }
    },
    "d7f32bbd97b54d88a036d70d34502557": {
     "model_module": "@jupyter-widgets/base",
     "model_name": "LayoutModel",
     "model_module_version": "1.2.0",
     "state": {
      "_model_module": "@jupyter-widgets/base",
      "_model_module_version": "1.2.0",
      "_model_name": "LayoutModel",
      "_view_count": null,
      "_view_module": "@jupyter-widgets/base",
      "_view_module_version": "1.2.0",
      "_view_name": "LayoutView",
      "align_content": null,
      "align_items": null,
      "align_self": null,
      "border": null,
      "bottom": null,
      "display": null,
      "flex": null,
      "flex_flow": null,
      "grid_area": null,
      "grid_auto_columns": null,
      "grid_auto_flow": null,
      "grid_auto_rows": null,
      "grid_column": null,
      "grid_gap": null,
      "grid_row": null,
      "grid_template_areas": null,
      "grid_template_columns": null,
      "grid_template_rows": null,
      "height": null,
      "justify_content": null,
      "justify_items": null,
      "left": null,
      "margin": null,
      "max_height": null,
      "max_width": null,
      "min_height": null,
      "min_width": null,
      "object_fit": null,
      "object_position": null,
      "order": null,
      "overflow": null,
      "overflow_x": null,
      "overflow_y": null,
      "padding": null,
      "right": null,
      "top": null,
      "visibility": null,
      "width": null
     }
    },
    "a63a3e53d2bf4e75929d63ef64b81b54": {
     "model_module": "@jupyter-widgets/controls",
     "model_name": "DescriptionStyleModel",
     "model_module_version": "1.5.0",
     "state": {
      "_model_module": "@jupyter-widgets/controls",
      "_model_module_version": "1.5.0",
      "_model_name": "DescriptionStyleModel",
      "_view_count": null,
      "_view_module": "@jupyter-widgets/base",
      "_view_module_version": "1.2.0",
      "_view_name": "StyleView",
      "description_width": ""
     }
    },
    "7666c13fcdd64fbd994bf4aa0b0bad1d": {
     "model_module": "@jupyter-widgets/base",
     "model_name": "LayoutModel",
     "model_module_version": "1.2.0",
     "state": {
      "_model_module": "@jupyter-widgets/base",
      "_model_module_version": "1.2.0",
      "_model_name": "LayoutModel",
      "_view_count": null,
      "_view_module": "@jupyter-widgets/base",
      "_view_module_version": "1.2.0",
      "_view_name": "LayoutView",
      "align_content": null,
      "align_items": null,
      "align_self": null,
      "border": null,
      "bottom": null,
      "display": null,
      "flex": null,
      "flex_flow": null,
      "grid_area": null,
      "grid_auto_columns": null,
      "grid_auto_flow": null,
      "grid_auto_rows": null,
      "grid_column": null,
      "grid_gap": null,
      "grid_row": null,
      "grid_template_areas": null,
      "grid_template_columns": null,
      "grid_template_rows": null,
      "height": null,
      "justify_content": null,
      "justify_items": null,
      "left": null,
      "margin": null,
      "max_height": null,
      "max_width": null,
      "min_height": null,
      "min_width": null,
      "object_fit": null,
      "object_position": null,
      "order": null,
      "overflow": null,
      "overflow_x": null,
      "overflow_y": null,
      "padding": null,
      "right": null,
      "top": null,
      "visibility": null,
      "width": null
     }
    },
    "dd7bd9454c0047588695b4d95500a11a": {
     "model_module": "@jupyter-widgets/controls",
     "model_name": "ProgressStyleModel",
     "model_module_version": "1.5.0",
     "state": {
      "_model_module": "@jupyter-widgets/controls",
      "_model_module_version": "1.5.0",
      "_model_name": "ProgressStyleModel",
      "_view_count": null,
      "_view_module": "@jupyter-widgets/base",
      "_view_module_version": "1.2.0",
      "_view_name": "StyleView",
      "bar_color": null,
      "description_width": ""
     }
    },
    "c4c2696c58494225bddbac23fffd4fb9": {
     "model_module": "@jupyter-widgets/base",
     "model_name": "LayoutModel",
     "model_module_version": "1.2.0",
     "state": {
      "_model_module": "@jupyter-widgets/base",
      "_model_module_version": "1.2.0",
      "_model_name": "LayoutModel",
      "_view_count": null,
      "_view_module": "@jupyter-widgets/base",
      "_view_module_version": "1.2.0",
      "_view_name": "LayoutView",
      "align_content": null,
      "align_items": null,
      "align_self": null,
      "border": null,
      "bottom": null,
      "display": null,
      "flex": null,
      "flex_flow": null,
      "grid_area": null,
      "grid_auto_columns": null,
      "grid_auto_flow": null,
      "grid_auto_rows": null,
      "grid_column": null,
      "grid_gap": null,
      "grid_row": null,
      "grid_template_areas": null,
      "grid_template_columns": null,
      "grid_template_rows": null,
      "height": null,
      "justify_content": null,
      "justify_items": null,
      "left": null,
      "margin": null,
      "max_height": null,
      "max_width": null,
      "min_height": null,
      "min_width": null,
      "object_fit": null,
      "object_position": null,
      "order": null,
      "overflow": null,
      "overflow_x": null,
      "overflow_y": null,
      "padding": null,
      "right": null,
      "top": null,
      "visibility": null,
      "width": null
     }
    },
    "37ff385daa2841e6beb860a5ca45e536": {
     "model_module": "@jupyter-widgets/controls",
     "model_name": "DescriptionStyleModel",
     "model_module_version": "1.5.0",
     "state": {
      "_model_module": "@jupyter-widgets/controls",
      "_model_module_version": "1.5.0",
      "_model_name": "DescriptionStyleModel",
      "_view_count": null,
      "_view_module": "@jupyter-widgets/base",
      "_view_module_version": "1.2.0",
      "_view_name": "StyleView",
      "description_width": ""
     }
    }
   }
  }
 },
 "cells": [
  {
   "cell_type": "markdown",
   "source": [
    "## Scripts for Evaluation on Test Datasets"
   ],
   "metadata": {
    "id": "fZc1s37U6woO",
    "pycharm": {
     "name": "#%% md\n"
    }
   }
  },
  {
   "cell_type": "markdown",
   "source": [
    "## Add the path to global environment"
   ],
   "metadata": {
    "id": "AgQTYLC4615N",
    "pycharm": {
     "name": "#%% md\n"
    }
   }
  },
  {
   "cell_type": "code",
   "source": [
    "import os, sys\n",
    "\n",
    "sys.path.append('./p2p_source_code')\n",
    "sys.path.append('./p2p_source_code/lib')\n"
   ],
   "metadata": {
    "id": "An8SHSr42qcc",
    "pycharm": {
     "name": "#%%\n"
    }
   },
   "execution_count": 2,
   "outputs": []
  },
  {
   "cell_type": "markdown",
   "source": [
    "## Install the dependencies  (some pytorch lib fails , but not relevant to this project, so it can be ignored out)"
   ],
   "metadata": {
    "id": "oOziFT7K0OkM",
    "pycharm": {
     "name": "#%% md\n"
    }
   }
  },
  {
   "cell_type": "code",
   "source": [
    "!pip install -r ./p2p_source_code/requirements.txt"
   ],
   "metadata": {
    "id": "rSlq4BXdjT1Y",
    "colab": {
     "base_uri": "https://localhost:8080/"
    },
    "outputId": "44779094-b73e-422d-8891-f39314eef67d",
    "pycharm": {
     "name": "#%%\n"
    }
   },
   "execution_count": 3,
   "outputs": [
    {
     "output_type": "stream",
     "name": "stdout",
     "text": [
      "Looking in indexes: https://pypi.org/simple, https://us-python.pkg.dev/colab-wheels/public/simple/\n",
      "Requirement already satisfied: aiohttp in /usr/local/lib/python3.8/dist-packages (from -r /content/drive/MyDrive/p2p_source_code/requirements.txt (line 1)) (3.8.3)\n",
      "Collecting aiohttp-cors\n",
      "  Downloading aiohttp_cors-0.7.0-py3-none-any.whl (27 kB)\n",
      "Collecting aioredis\n",
      "  Downloading aioredis-2.0.1-py3-none-any.whl (71 kB)\n",
      "\u001B[2K     \u001B[90m━━━━━━━━━━━━━━━━━━━━━━━━━━━━━━━━━━━━━━━━\u001B[0m \u001B[32m71.2/71.2 KB\u001B[0m \u001B[31m8.2 MB/s\u001B[0m eta \u001B[36m0:00:00\u001B[0m\n",
      "\u001B[?25hCollecting asgiref\n",
      "  Downloading asgiref-3.6.0-py3-none-any.whl (23 kB)\n",
      "Requirement already satisfied: async-timeout in /usr/local/lib/python3.8/dist-packages (from -r /content/drive/MyDrive/p2p_source_code/requirements.txt (line 5)) (4.0.2)\n",
      "Requirement already satisfied: attrs in /usr/local/lib/python3.8/dist-packages (from -r /content/drive/MyDrive/p2p_source_code/requirements.txt (line 6)) (22.2.0)\n",
      "Collecting Augmentor\n",
      "  Downloading Augmentor-0.2.10-py2.py3-none-any.whl (38 kB)\n",
      "Requirement already satisfied: backcall in /usr/local/lib/python3.8/dist-packages (from -r /content/drive/MyDrive/p2p_source_code/requirements.txt (line 8)) (0.2.0)\n",
      "Collecting blessings\n",
      "  Downloading blessings-1.7-py3-none-any.whl (18 kB)\n",
      "Requirement already satisfied: cachetools in /usr/local/lib/python3.8/dist-packages (from -r /content/drive/MyDrive/p2p_source_code/requirements.txt (line 10)) (5.2.1)\n",
      "Requirement already satisfied: certifi in /usr/local/lib/python3.8/dist-packages (from -r /content/drive/MyDrive/p2p_source_code/requirements.txt (line 11)) (2022.12.7)\n",
      "Requirement already satisfied: chardet in /usr/local/lib/python3.8/dist-packages (from -r /content/drive/MyDrive/p2p_source_code/requirements.txt (line 12)) (4.0.0)\n",
      "Requirement already satisfied: charset-normalizer in /usr/local/lib/python3.8/dist-packages (from -r /content/drive/MyDrive/p2p_source_code/requirements.txt (line 13)) (2.1.1)\n",
      "Requirement already satisfied: click in /usr/local/lib/python3.8/dist-packages (from -r /content/drive/MyDrive/p2p_source_code/requirements.txt (line 14)) (7.1.2)\n",
      "Collecting colorama\n",
      "  Downloading colorama-0.4.6-py2.py3-none-any.whl (25 kB)\n",
      "Requirement already satisfied: cycler in /usr/local/lib/python3.8/dist-packages (from -r /content/drive/MyDrive/p2p_source_code/requirements.txt (line 16)) (0.11.0)\n",
      "Collecting dataclasses\n",
      "  Downloading dataclasses-0.6-py3-none-any.whl (14 kB)\n",
      "Requirement already satisfied: decorator in /usr/local/lib/python3.8/dist-packages (from -r /content/drive/MyDrive/p2p_source_code/requirements.txt (line 18)) (4.4.2)\n",
      "Collecting Django\n",
      "  Downloading Django-4.1.6-py3-none-any.whl (8.1 MB)\n",
      "\u001B[2K     \u001B[90m━━━━━━━━━━━━━━━━━━━━━━━━━━━━━━━━━━━━━━━━\u001B[0m \u001B[32m8.1/8.1 MB\u001B[0m \u001B[31m100.7 MB/s\u001B[0m eta \u001B[36m0:00:00\u001B[0m\n",
      "\u001B[?25hRequirement already satisfied: easydict in /usr/local/lib/python3.8/dist-packages (from -r /content/drive/MyDrive/p2p_source_code/requirements.txt (line 20)) (1.10)\n",
      "Requirement already satisfied: entrypoints in /usr/local/lib/python3.8/dist-packages (from -r /content/drive/MyDrive/p2p_source_code/requirements.txt (line 21)) (0.4)\n",
      "Requirement already satisfied: filelock in /usr/local/lib/python3.8/dist-packages (from -r /content/drive/MyDrive/p2p_source_code/requirements.txt (line 22)) (3.9.0)\n",
      "Collecting flake8\n",
      "  Downloading flake8-6.0.0-py2.py3-none-any.whl (57 kB)\n",
      "\u001B[2K     \u001B[90m━━━━━━━━━━━━━━━━━━━━━━━━━━━━━━━━━━━━━━━━\u001B[0m \u001B[32m57.8/57.8 KB\u001B[0m \u001B[31m8.7 MB/s\u001B[0m eta \u001B[36m0:00:00\u001B[0m\n",
      "\u001B[?25hRequirement already satisfied: future in /usr/local/lib/python3.8/dist-packages (from -r /content/drive/MyDrive/p2p_source_code/requirements.txt (line 24)) (0.16.0)\n",
      "Requirement already satisfied: gdown in /usr/local/lib/python3.8/dist-packages (from -r /content/drive/MyDrive/p2p_source_code/requirements.txt (line 25)) (4.4.0)\n",
      "Requirement already satisfied: google-api-core in /usr/local/lib/python3.8/dist-packages (from -r /content/drive/MyDrive/p2p_source_code/requirements.txt (line 26)) (2.11.0)\n",
      "Requirement already satisfied: google-auth in /usr/local/lib/python3.8/dist-packages (from -r /content/drive/MyDrive/p2p_source_code/requirements.txt (line 27)) (2.16.0)\n",
      "Requirement already satisfied: googleapis-common-protos in /usr/local/lib/python3.8/dist-packages (from -r /content/drive/MyDrive/p2p_source_code/requirements.txt (line 28)) (1.58.0)\n",
      "Collecting gpustat\n",
      "  Downloading gpustat-1.0.0.tar.gz (90 kB)\n",
      "\u001B[2K     \u001B[90m━━━━━━━━━━━━━━━━━━━━━━━━━━━━━━━━━━━━━━━━\u001B[0m \u001B[32m90.5/90.5 KB\u001B[0m \u001B[31m14.3 MB/s\u001B[0m eta \u001B[36m0:00:00\u001B[0m\n",
      "\u001B[?25h  Preparing metadata (setup.py) ... \u001B[?25l\u001B[?25hdone\n",
      "Requirement already satisfied: grpcio in /usr/local/lib/python3.8/dist-packages (from -r /content/drive/MyDrive/p2p_source_code/requirements.txt (line 30)) (1.51.1)\n",
      "Collecting hiredis\n",
      "  Downloading hiredis-2.2.1-cp38-cp38-manylinux_2_17_x86_64.manylinux2014_x86_64.whl (156 kB)\n",
      "\u001B[2K     \u001B[90m━━━━━━━━━━━━━━━━━━━━━━━━━━━━━━━━━━━━━━\u001B[0m \u001B[32m156.1/156.1 KB\u001B[0m \u001B[31m21.6 MB/s\u001B[0m eta \u001B[36m0:00:00\u001B[0m\n",
      "\u001B[?25hRequirement already satisfied: idna in /usr/local/lib/python3.8/dist-packages (from -r /content/drive/MyDrive/p2p_source_code/requirements.txt (line 32)) (2.10)\n",
      "Collecting idna-ssl\n",
      "  Downloading idna-ssl-1.1.0.tar.gz (3.4 kB)\n",
      "  Preparing metadata (setup.py) ... \u001B[?25l\u001B[?25hdone\n",
      "Collecting image\n",
      "  Downloading image-1.5.33.tar.gz (15 kB)\n",
      "  Preparing metadata (setup.py) ... \u001B[?25l\u001B[?25hdone\n",
      "Collecting immutables\n",
      "  Downloading immutables-0.19-cp38-cp38-manylinux_2_5_x86_64.manylinux1_x86_64.manylinux_2_17_x86_64.manylinux2014_x86_64.whl (124 kB)\n",
      "\u001B[2K     \u001B[90m━━━━━━━━━━━━━━━━━━━━━━━━━━━━━━━━━━━━━━\u001B[0m \u001B[32m124.4/124.4 KB\u001B[0m \u001B[31m17.1 MB/s\u001B[0m eta \u001B[36m0:00:00\u001B[0m\n",
      "\u001B[?25hRequirement already satisfied: importlib-metadata in /usr/local/lib/python3.8/dist-packages (from -r /content/drive/MyDrive/p2p_source_code/requirements.txt (line 36)) (6.0.0)\n",
      "Requirement already satisfied: importlib-resources in /usr/local/lib/python3.8/dist-packages (from -r /content/drive/MyDrive/p2p_source_code/requirements.txt (line 37)) (5.10.2)\n",
      "Requirement already satisfied: ipykernel in /usr/local/lib/python3.8/dist-packages (from -r /content/drive/MyDrive/p2p_source_code/requirements.txt (line 38)) (5.3.4)\n",
      "Requirement already satisfied: ipython in /usr/local/lib/python3.8/dist-packages (from -r /content/drive/MyDrive/p2p_source_code/requirements.txt (line 39)) (7.9.0)\n",
      "Requirement already satisfied: ipython-genutils in /usr/local/lib/python3.8/dist-packages (from -r /content/drive/MyDrive/p2p_source_code/requirements.txt (line 40)) (0.2.0)\n",
      "Collecting jedi\n",
      "  Downloading jedi-0.18.2-py2.py3-none-any.whl (1.6 MB)\n",
      "\u001B[2K     \u001B[90m━━━━━━━━━━━━━━━━━━━━━━━━━━━━━━━━━━━━━━━━\u001B[0m \u001B[32m1.6/1.6 MB\u001B[0m \u001B[31m86.6 MB/s\u001B[0m eta \u001B[36m0:00:00\u001B[0m\n",
      "\u001B[?25hRequirement already satisfied: joblib in /usr/local/lib/python3.8/dist-packages (from -r /content/drive/MyDrive/p2p_source_code/requirements.txt (line 42)) (1.2.0)\n",
      "Requirement already satisfied: jsonschema in /usr/local/lib/python3.8/dist-packages (from -r /content/drive/MyDrive/p2p_source_code/requirements.txt (line 43)) (4.3.3)\n",
      "Requirement already satisfied: jupyter-client in /usr/local/lib/python3.8/dist-packages (from -r /content/drive/MyDrive/p2p_source_code/requirements.txt (line 44)) (6.1.12)\n",
      "Requirement already satisfied: jupyter-core in /usr/local/lib/python3.8/dist-packages (from -r /content/drive/MyDrive/p2p_source_code/requirements.txt (line 45)) (5.1.3)\n",
      "Requirement already satisfied: kiwisolver in /usr/local/lib/python3.8/dist-packages (from -r /content/drive/MyDrive/p2p_source_code/requirements.txt (line 46)) (1.4.4)\n",
      "Requirement already satisfied: matplotlib in /usr/local/lib/python3.8/dist-packages (from -r /content/drive/MyDrive/p2p_source_code/requirements.txt (line 47)) (3.2.2)\n",
      "Collecting mccabe\n",
      "  Downloading mccabe-0.7.0-py2.py3-none-any.whl (7.3 kB)\n",
      "Requirement already satisfied: msgpack in /usr/local/lib/python3.8/dist-packages (from -r /content/drive/MyDrive/p2p_source_code/requirements.txt (line 49)) (1.0.4)\n",
      "Requirement already satisfied: multidict in /usr/local/lib/python3.8/dist-packages (from -r /content/drive/MyDrive/p2p_source_code/requirements.txt (line 50)) (6.0.4)\n",
      "Collecting nest-asyncio\n",
      "  Downloading nest_asyncio-1.5.6-py3-none-any.whl (5.2 kB)\n",
      "Requirement already satisfied: nltk in /usr/local/lib/python3.8/dist-packages (from -r /content/drive/MyDrive/p2p_source_code/requirements.txt (line 52)) (3.7)\n",
      "Requirement already satisfied: numpy in /usr/local/lib/python3.8/dist-packages (from -r /content/drive/MyDrive/p2p_source_code/requirements.txt (line 53)) (1.21.6)\n",
      "Collecting nvidia-ml-py3\n",
      "  Downloading nvidia-ml-py3-7.352.0.tar.gz (19 kB)\n",
      "  Preparing metadata (setup.py) ... \u001B[?25l\u001B[?25hdone\n",
      "Collecting opencensus\n",
      "  Downloading opencensus-0.11.1-py2.py3-none-any.whl (128 kB)\n",
      "\u001B[2K     \u001B[90m━━━━━━━━━━━━━━━━━━━━━━━━━━━━━━━━━━━━━━\u001B[0m \u001B[32m128.2/128.2 KB\u001B[0m \u001B[31m19.7 MB/s\u001B[0m eta \u001B[36m0:00:00\u001B[0m\n",
      "\u001B[?25hCollecting opencensus-context\n",
      "  Downloading opencensus_context-0.1.3-py2.py3-none-any.whl (5.1 kB)\n",
      "Requirement already satisfied: opencv-python in /usr/local/lib/python3.8/dist-packages (from -r /content/drive/MyDrive/p2p_source_code/requirements.txt (line 57)) (4.6.0.66)\n",
      "Requirement already satisfied: packaging in /usr/local/lib/python3.8/dist-packages (from -r /content/drive/MyDrive/p2p_source_code/requirements.txt (line 58)) (21.3)\n",
      "Requirement already satisfied: parso in /usr/local/lib/python3.8/dist-packages (from -r /content/drive/MyDrive/p2p_source_code/requirements.txt (line 59)) (0.8.3)\n",
      "Requirement already satisfied: pexpect in /usr/local/lib/python3.8/dist-packages (from -r /content/drive/MyDrive/p2p_source_code/requirements.txt (line 60)) (4.8.0)\n",
      "Requirement already satisfied: pickleshare in /usr/local/lib/python3.8/dist-packages (from -r /content/drive/MyDrive/p2p_source_code/requirements.txt (line 61)) (0.7.5)\n",
      "Requirement already satisfied: Pillow in /usr/local/lib/python3.8/dist-packages (from -r /content/drive/MyDrive/p2p_source_code/requirements.txt (line 62)) (7.1.2)\n",
      "Requirement already satisfied: prometheus-client in /usr/local/lib/python3.8/dist-packages (from -r /content/drive/MyDrive/p2p_source_code/requirements.txt (line 63)) (0.15.0)\n",
      "Requirement already satisfied: prompt-toolkit in /usr/local/lib/python3.8/dist-packages (from -r /content/drive/MyDrive/p2p_source_code/requirements.txt (line 64)) (2.0.10)\n",
      "Requirement already satisfied: protobuf in /usr/local/lib/python3.8/dist-packages (from -r /content/drive/MyDrive/p2p_source_code/requirements.txt (line 65)) (3.19.6)\n",
      "Requirement already satisfied: ptyprocess in /usr/local/lib/python3.8/dist-packages (from -r /content/drive/MyDrive/p2p_source_code/requirements.txt (line 66)) (0.7.0)\n",
      "Collecting py-spy\n",
      "  Downloading py_spy-0.3.14-py2.py3-none-manylinux_2_5_x86_64.manylinux1_x86_64.whl (3.0 MB)\n",
      "\u001B[2K     \u001B[90m━━━━━━━━━━━━━━━━━━━━━━━━━━━━━━━━━━━━━━━━\u001B[0m \u001B[32m3.0/3.0 MB\u001B[0m \u001B[31m99.3 MB/s\u001B[0m eta \u001B[36m0:00:00\u001B[0m\n",
      "\u001B[?25hRequirement already satisfied: pyasn1 in /usr/local/lib/python3.8/dist-packages (from -r /content/drive/MyDrive/p2p_source_code/requirements.txt (line 68)) (0.4.8)\n",
      "Requirement already satisfied: pyasn1-modules in /usr/local/lib/python3.8/dist-packages (from -r /content/drive/MyDrive/p2p_source_code/requirements.txt (line 69)) (0.2.8)\n",
      "Collecting pycodestyle\n",
      "  Downloading pycodestyle-2.10.0-py2.py3-none-any.whl (41 kB)\n",
      "\u001B[2K     \u001B[90m━━━━━━━━━━━━━━━━━━━━━━━━━━━━━━━━━━━━━━━━\u001B[0m \u001B[32m41.3/41.3 KB\u001B[0m \u001B[31m5.9 MB/s\u001B[0m eta \u001B[36m0:00:00\u001B[0m\n",
      "\u001B[?25hRequirement already satisfied: pydantic in /usr/local/lib/python3.8/dist-packages (from -r /content/drive/MyDrive/p2p_source_code/requirements.txt (line 71)) (1.10.4)\n",
      "Collecting pyflakes\n",
      "  Downloading pyflakes-3.0.1-py2.py3-none-any.whl (62 kB)\n",
      "\u001B[2K     \u001B[90m━━━━━━━━━━━━━━━━━━━━━━━━━━━━━━━━━━━━━━━━\u001B[0m \u001B[32m62.8/62.8 KB\u001B[0m \u001B[31m9.3 MB/s\u001B[0m eta \u001B[36m0:00:00\u001B[0m\n",
      "\u001B[?25hRequirement already satisfied: Pygments in /usr/local/lib/python3.8/dist-packages (from -r /content/drive/MyDrive/p2p_source_code/requirements.txt (line 73)) (2.6.1)\n",
      "Requirement already satisfied: pyparsing in /usr/local/lib/python3.8/dist-packages (from -r /content/drive/MyDrive/p2p_source_code/requirements.txt (line 74)) (3.0.9)\n",
      "Requirement already satisfied: pyrsistent in /usr/local/lib/python3.8/dist-packages (from -r /content/drive/MyDrive/p2p_source_code/requirements.txt (line 75)) (0.19.3)\n",
      "Requirement already satisfied: PySocks in /usr/local/lib/python3.8/dist-packages (from -r /content/drive/MyDrive/p2p_source_code/requirements.txt (line 76)) (1.7.1)\n",
      "Requirement already satisfied: python-dateutil in /usr/local/lib/python3.8/dist-packages (from -r /content/drive/MyDrive/p2p_source_code/requirements.txt (line 77)) (2.8.2)\n",
      "Requirement already satisfied: pytz in /usr/local/lib/python3.8/dist-packages (from -r /content/drive/MyDrive/p2p_source_code/requirements.txt (line 78)) (2022.7)\n",
      "Requirement already satisfied: PyYAML in /usr/local/lib/python3.8/dist-packages (from -r /content/drive/MyDrive/p2p_source_code/requirements.txt (line 79)) (6.0)\n",
      "Requirement already satisfied: pyzmq in /usr/local/lib/python3.8/dist-packages (from -r /content/drive/MyDrive/p2p_source_code/requirements.txt (line 80)) (23.2.1)\n",
      "Collecting ray\n",
      "  Downloading ray-2.2.0-cp38-cp38-manylinux2014_x86_64.whl (57.4 MB)\n",
      "\u001B[2K     \u001B[90m━━━━━━━━━━━━━━━━━━━━━━━━━━━━━━━━━━━━━━━━\u001B[0m \u001B[32m57.4/57.4 MB\u001B[0m \u001B[31m13.5 MB/s\u001B[0m eta \u001B[36m0:00:00\u001B[0m\n",
      "\u001B[?25hCollecting redis\n",
      "  Downloading redis-4.4.2-py3-none-any.whl (237 kB)\n",
      "\u001B[2K     \u001B[90m━━━━━━━━━━━━━━━━━━━━━━━━━━━━━━━━━━━━━━\u001B[0m \u001B[32m237.8/237.8 KB\u001B[0m \u001B[31m18.7 MB/s\u001B[0m eta \u001B[36m0:00:00\u001B[0m\n",
      "\u001B[?25hRequirement already satisfied: regex in /usr/local/lib/python3.8/dist-packages (from -r /content/drive/MyDrive/p2p_source_code/requirements.txt (line 83)) (2022.6.2)\n",
      "Requirement already satisfied: requests in /usr/local/lib/python3.8/dist-packages (from -r /content/drive/MyDrive/p2p_source_code/requirements.txt (line 84)) (2.25.1)\n",
      "Requirement already satisfied: rsa in /usr/local/lib/python3.8/dist-packages (from -r /content/drive/MyDrive/p2p_source_code/requirements.txt (line 85)) (4.9)\n",
      "Requirement already satisfied: scikit-learn in /usr/local/lib/python3.8/dist-packages (from -r /content/drive/MyDrive/p2p_source_code/requirements.txt (line 86)) (1.0.2)\n",
      "Requirement already satisfied: scipy in /usr/local/lib/python3.8/dist-packages (from -r /content/drive/MyDrive/p2p_source_code/requirements.txt (line 87)) (1.7.3)\n",
      "Requirement already satisfied: six in /usr/local/lib/python3.8/dist-packages (from -r /content/drive/MyDrive/p2p_source_code/requirements.txt (line 88)) (1.15.0)\n",
      "Requirement already satisfied: sqlparse in /usr/local/lib/python3.8/dist-packages (from -r /content/drive/MyDrive/p2p_source_code/requirements.txt (line 89)) (0.4.3)\n",
      "Requirement already satisfied: threadpoolctl in /usr/local/lib/python3.8/dist-packages (from -r /content/drive/MyDrive/p2p_source_code/requirements.txt (line 90)) (3.1.0)\n",
      "Requirement already satisfied: tornado in /usr/local/lib/python3.8/dist-packages (from -r /content/drive/MyDrive/p2p_source_code/requirements.txt (line 91)) (6.0.4)\n",
      "Requirement already satisfied: tqdm in /usr/local/lib/python3.8/dist-packages (from -r /content/drive/MyDrive/p2p_source_code/requirements.txt (line 92)) (4.64.1)\n",
      "Requirement already satisfied: traitlets in /usr/local/lib/python3.8/dist-packages (from -r /content/drive/MyDrive/p2p_source_code/requirements.txt (line 93)) (5.7.1)\n",
      "Requirement already satisfied: typing-extensions in /usr/local/lib/python3.8/dist-packages (from -r /content/drive/MyDrive/p2p_source_code/requirements.txt (line 94)) (4.4.0)\n",
      "Requirement already satisfied: urllib3 in /usr/local/lib/python3.8/dist-packages (from -r /content/drive/MyDrive/p2p_source_code/requirements.txt (line 95)) (1.24.3)\n",
      "Requirement already satisfied: wcwidth in /usr/local/lib/python3.8/dist-packages (from -r /content/drive/MyDrive/p2p_source_code/requirements.txt (line 96)) (0.2.5)\n",
      "Collecting wincertstore\n",
      "  Downloading wincertstore-0.2-py2.py3-none-any.whl (8.8 kB)\n",
      "Requirement already satisfied: yarl in /usr/local/lib/python3.8/dist-packages (from -r /content/drive/MyDrive/p2p_source_code/requirements.txt (line 98)) (1.8.2)\n",
      "Requirement already satisfied: zipp in /usr/local/lib/python3.8/dist-packages (from -r /content/drive/MyDrive/p2p_source_code/requirements.txt (line 99)) (3.11.0)\n",
      "Collecting torch==1.6.0\n",
      "  Downloading torch-1.6.0-cp38-cp38-manylinux1_x86_64.whl (748.8 MB)\n",
      "\u001B[2K     \u001B[90m━━━━━━━━━━━━━━━━━━━━━━━━━━━━━━━━━━━━━━━\u001B[0m \u001B[32m748.8/748.8 MB\u001B[0m \u001B[31m2.3 MB/s\u001B[0m eta \u001B[36m0:00:00\u001B[0m\n",
      "\u001B[?25hCollecting torchvision==0.7.0\n",
      "  Downloading torchvision-0.7.0-cp38-cp38-manylinux1_x86_64.whl (5.9 MB)\n",
      "\u001B[2K     \u001B[90m━━━━━━━━━━━━━━━━━━━━━━━━━━━━━━━━━━━━━━━━\u001B[0m \u001B[32m5.9/5.9 MB\u001B[0m \u001B[31m101.7 MB/s\u001B[0m eta \u001B[36m0:00:00\u001B[0m\n",
      "\u001B[?25hCollecting tensorboardX\n",
      "  Downloading tensorboardX-2.5.1-py2.py3-none-any.whl (125 kB)\n",
      "\u001B[2K     \u001B[90m━━━━━━━━━━━━━━━━━━━━━━━━━━━━━━━━━━━━━━\u001B[0m \u001B[32m125.4/125.4 KB\u001B[0m \u001B[31m14.4 MB/s\u001B[0m eta \u001B[36m0:00:00\u001B[0m\n",
      "\u001B[?25hCollecting sklearn\n",
      "  Downloading sklearn-0.0.post1.tar.gz (3.6 kB)\n",
      "  Preparing metadata (setup.py) ... \u001B[?25l\u001B[?25hdone\n",
      "Requirement already satisfied: aiosignal>=1.1.2 in /usr/local/lib/python3.8/dist-packages (from aiohttp->-r /content/drive/MyDrive/p2p_source_code/requirements.txt (line 1)) (1.3.1)\n",
      "Requirement already satisfied: frozenlist>=1.1.1 in /usr/local/lib/python3.8/dist-packages (from aiohttp->-r /content/drive/MyDrive/p2p_source_code/requirements.txt (line 1)) (1.3.3)\n",
      "Collecting backports.zoneinfo\n",
      "  Downloading backports.zoneinfo-0.2.1-cp38-cp38-manylinux1_x86_64.whl (74 kB)\n",
      "\u001B[2K     \u001B[90m━━━━━━━━━━━━━━━━━━━━━━━━━━━━━━━━━━━━━━━━\u001B[0m \u001B[32m74.0/74.0 KB\u001B[0m \u001B[31m11.6 MB/s\u001B[0m eta \u001B[36m0:00:00\u001B[0m\n",
      "\u001B[?25hRequirement already satisfied: beautifulsoup4 in /usr/local/lib/python3.8/dist-packages (from gdown->-r /content/drive/MyDrive/p2p_source_code/requirements.txt (line 25)) (4.6.3)\n",
      "Collecting nvidia-ml-py<=11.495.46,>=11.450.129\n",
      "  Downloading nvidia_ml_py-11.495.46-py3-none-any.whl (25 kB)\n",
      "Collecting psutil>=5.6.0\n",
      "  Downloading psutil-5.9.4-cp36-abi3-manylinux_2_12_x86_64.manylinux2010_x86_64.manylinux_2_17_x86_64.manylinux2014_x86_64.whl (280 kB)\n",
      "\u001B[2K     \u001B[90m━━━━━━━━━━━━━━━━━━━━━━━━━━━━━━━━━━━━━━\u001B[0m \u001B[32m280.2/280.2 KB\u001B[0m \u001B[31m36.7 MB/s\u001B[0m eta \u001B[36m0:00:00\u001B[0m\n",
      "\u001B[?25hCollecting blessed>=1.17.1\n",
      "  Downloading blessed-1.19.1-py2.py3-none-any.whl (58 kB)\n",
      "\u001B[2K     \u001B[90m━━━━━━━━━━━━━━━━━━━━━━━━━━━━━━━━━━━━━━━━\u001B[0m \u001B[32m58.0/58.0 KB\u001B[0m \u001B[31m10.0 MB/s\u001B[0m eta \u001B[36m0:00:00\u001B[0m\n",
      "\u001B[?25hRequirement already satisfied: setuptools>=18.5 in /usr/local/lib/python3.8/dist-packages (from ipython->-r /content/drive/MyDrive/p2p_source_code/requirements.txt (line 39)) (57.4.0)\n",
      "Requirement already satisfied: platformdirs>=2.5 in /usr/local/lib/python3.8/dist-packages (from jupyter-core->-r /content/drive/MyDrive/p2p_source_code/requirements.txt (line 45)) (2.6.2)\n",
      "Collecting virtualenv>=20.0.24\n",
      "  Downloading virtualenv-20.17.1-py3-none-any.whl (8.8 MB)\n",
      "\u001B[2K     \u001B[90m━━━━━━━━━━━━━━━━━━━━━━━━━━━━━━━━━━━━━━━━\u001B[0m \u001B[32m8.8/8.8 MB\u001B[0m \u001B[31m115.3 MB/s\u001B[0m eta \u001B[36m0:00:00\u001B[0m\n",
      "\u001B[?25hCollecting distlib<1,>=0.3.6\n",
      "  Downloading distlib-0.3.6-py2.py3-none-any.whl (468 kB)\n",
      "\u001B[2K     \u001B[90m━━━━━━━━━━━━━━━━━━━━━━━━━━━━━━━━━━━━━━\u001B[0m \u001B[32m468.5/468.5 KB\u001B[0m \u001B[31m48.6 MB/s\u001B[0m eta \u001B[36m0:00:00\u001B[0m\n",
      "\u001B[?25hBuilding wheels for collected packages: gpustat, idna-ssl, image, nvidia-ml-py3, sklearn\n",
      "  Building wheel for gpustat (setup.py) ... \u001B[?25l\u001B[?25hdone\n",
      "  Created wheel for gpustat: filename=gpustat-1.0.0-py3-none-any.whl size=19887 sha256=ae1f4bbc5d1695255454a4b46fc5d585ff8eeea62dd9ed87ca6f7f62e36e902d\n",
      "  Stored in directory: /root/.cache/pip/wheels/1b/ed/14/0d513c962b25da841c42022cb5847c2ef835902c8563b8fb01\n",
      "  Building wheel for idna-ssl (setup.py) ... \u001B[?25l\u001B[?25hdone\n",
      "  Created wheel for idna-ssl: filename=idna_ssl-1.1.0-py3-none-any.whl size=3177 sha256=4f0e1eecff1cc9efb01f1d1bf4060780635fca94fc6f10c77d4682a6c742b778\n",
      "  Stored in directory: /root/.cache/pip/wheels/65/bf/3d/a73f23e5212e981e00d67bf4519d36354957e0fcbfa8cdcfd4\n",
      "  Building wheel for image (setup.py) ... \u001B[?25l\u001B[?25hdone\n",
      "  Created wheel for image: filename=image-1.5.33-py2.py3-none-any.whl size=19494 sha256=05cd1df9aa84cad6bc1e9e9df0ad8eb211512cabf4d142940cf122babeba09f2\n",
      "  Stored in directory: /root/.cache/pip/wheels/ac/30/5c/a8b33888bea3507eda7c924a143d34b2390d2ca5b145b327b5\n",
      "  Building wheel for nvidia-ml-py3 (setup.py) ... \u001B[?25l\u001B[?25hdone\n",
      "  Created wheel for nvidia-ml-py3: filename=nvidia_ml_py3-7.352.0-py3-none-any.whl size=19190 sha256=7545fe4ee7e6485138a960a3e30a02445206b95e37ef250e5b864ab11ce90782\n",
      "  Stored in directory: /root/.cache/pip/wheels/b9/b1/68/cb4feab29709d4155310d29a421389665dcab9eb3b679b527b\n",
      "  Building wheel for sklearn (setup.py) ... \u001B[?25l\u001B[?25hdone\n",
      "  Created wheel for sklearn: filename=sklearn-0.0.post1-py3-none-any.whl size=2344 sha256=16009c3531c51e656ca39935b2a63fd1df83c40f60db182e3e452fb744619985\n",
      "  Stored in directory: /root/.cache/pip/wheels/14/25/f7/1cc0956978ae479e75140219088deb7a36f60459df242b1a72\n",
      "Successfully built gpustat idna-ssl image nvidia-ml-py3 sklearn\n",
      "Installing collected packages: wincertstore, sklearn, py-spy, opencensus-context, nvidia-ml-py3, nvidia-ml-py, distlib, dataclasses, virtualenv, torch, tensorboardX, redis, pyflakes, pycodestyle, psutil, nest-asyncio, mccabe, jedi, immutables, idna-ssl, hiredis, colorama, blessings, blessed, backports.zoneinfo, Augmentor, asgiref, aioredis, torchvision, gpustat, flake8, Django, ray, image, aiohttp-cors, opencensus\n",
      "  Attempting uninstall: torch\n",
      "    Found existing installation: torch 1.13.1+cu116\n",
      "    Uninstalling torch-1.13.1+cu116:\n",
      "      Successfully uninstalled torch-1.13.1+cu116\n",
      "  Attempting uninstall: psutil\n",
      "    Found existing installation: psutil 5.4.8\n",
      "    Uninstalling psutil-5.4.8:\n",
      "      Successfully uninstalled psutil-5.4.8\n",
      "  Attempting uninstall: torchvision\n",
      "    Found existing installation: torchvision 0.14.1+cu116\n",
      "    Uninstalling torchvision-0.14.1+cu116:\n",
      "      Successfully uninstalled torchvision-0.14.1+cu116\n",
      "\u001B[31mERROR: pip's dependency resolver does not currently take into account all the packages that are installed. This behaviour is the source of the following dependency conflicts.\n",
      "torchtext 0.14.1 requires torch==1.13.1, but you have torch 1.6.0 which is incompatible.\n",
      "torchaudio 0.13.1+cu116 requires torch==1.13.1, but you have torch 1.6.0 which is incompatible.\n",
      "fastai 2.7.10 requires torch<1.14,>=1.7, but you have torch 1.6.0 which is incompatible.\n",
      "fastai 2.7.10 requires torchvision>=0.8.2, but you have torchvision 0.7.0 which is incompatible.\u001B[0m\u001B[31m\n",
      "\u001B[0mSuccessfully installed Augmentor-0.2.10 Django-4.1.6 aiohttp-cors-0.7.0 aioredis-2.0.1 asgiref-3.6.0 backports.zoneinfo-0.2.1 blessed-1.19.1 blessings-1.7 colorama-0.4.6 dataclasses-0.6 distlib-0.3.6 flake8-6.0.0 gpustat-1.0.0 hiredis-2.2.1 idna-ssl-1.1.0 image-1.5.33 immutables-0.19 jedi-0.18.2 mccabe-0.7.0 nest-asyncio-1.5.6 nvidia-ml-py-11.495.46 nvidia-ml-py3-7.352.0 opencensus-0.11.1 opencensus-context-0.1.3 psutil-5.9.4 py-spy-0.3.14 pycodestyle-2.10.0 pyflakes-3.0.1 ray-2.2.0 redis-4.4.2 sklearn-0.0.post1 tensorboardX-2.5.1 torch-1.6.0 torchvision-0.7.0 virtualenv-20.17.1 wincertstore-0.2\n"
     ]
    }
   ]
  },
  {
   "cell_type": "markdown",
   "source": [
    "## Manually install failed dependencies"
   ],
   "metadata": {
    "id": "ZmMTZ72p7FNh",
    "pycharm": {
     "name": "#%% md\n"
    }
   }
  },
  {
   "cell_type": "code",
   "source": [
    "!pip install ray  Augmentor"
   ],
   "metadata": {
    "id": "FF9JqWy0XEBt",
    "colab": {
     "base_uri": "https://localhost:8080/"
    },
    "outputId": "db09cf2e-8936-489c-ff34-85ff65b91f52",
    "pycharm": {
     "name": "#%%\n"
    }
   },
   "execution_count": 4,
   "outputs": [
    {
     "output_type": "stream",
     "name": "stdout",
     "text": [
      "Looking in indexes: https://pypi.org/simple, https://us-python.pkg.dev/colab-wheels/public/simple/\n",
      "Requirement already satisfied: ray in /usr/local/lib/python3.8/dist-packages (2.2.0)\n",
      "Requirement already satisfied: Augmentor in /usr/local/lib/python3.8/dist-packages (0.2.10)\n",
      "Requirement already satisfied: msgpack<2.0.0,>=1.0.0 in /usr/local/lib/python3.8/dist-packages (from ray) (1.0.4)\n",
      "Requirement already satisfied: grpcio>=1.32.0 in /usr/local/lib/python3.8/dist-packages (from ray) (1.51.1)\n",
      "Requirement already satisfied: numpy>=1.16 in /usr/local/lib/python3.8/dist-packages (from ray) (1.21.6)\n",
      "Requirement already satisfied: pyyaml in /usr/local/lib/python3.8/dist-packages (from ray) (6.0)\n",
      "Requirement already satisfied: click>=7.0 in /usr/local/lib/python3.8/dist-packages (from ray) (7.1.2)\n",
      "Requirement already satisfied: attrs in /usr/local/lib/python3.8/dist-packages (from ray) (22.2.0)\n",
      "Requirement already satisfied: jsonschema in /usr/local/lib/python3.8/dist-packages (from ray) (4.3.3)\n",
      "Requirement already satisfied: requests in /usr/local/lib/python3.8/dist-packages (from ray) (2.25.1)\n",
      "Requirement already satisfied: frozenlist in /usr/local/lib/python3.8/dist-packages (from ray) (1.3.3)\n",
      "Requirement already satisfied: protobuf!=3.19.5,>=3.15.3 in /usr/local/lib/python3.8/dist-packages (from ray) (3.19.6)\n",
      "Requirement already satisfied: aiosignal in /usr/local/lib/python3.8/dist-packages (from ray) (1.3.1)\n",
      "Requirement already satisfied: filelock in /usr/local/lib/python3.8/dist-packages (from ray) (3.9.0)\n",
      "Requirement already satisfied: virtualenv>=20.0.24 in /usr/local/lib/python3.8/dist-packages (from ray) (20.17.1)\n",
      "Requirement already satisfied: future>=0.16.0 in /usr/local/lib/python3.8/dist-packages (from Augmentor) (0.16.0)\n",
      "Requirement already satisfied: tqdm>=4.9.0 in /usr/local/lib/python3.8/dist-packages (from Augmentor) (4.64.1)\n",
      "Requirement already satisfied: Pillow>=5.2.0 in /usr/local/lib/python3.8/dist-packages (from Augmentor) (7.1.2)\n",
      "Requirement already satisfied: distlib<1,>=0.3.6 in /usr/local/lib/python3.8/dist-packages (from virtualenv>=20.0.24->ray) (0.3.6)\n",
      "Requirement already satisfied: platformdirs<3,>=2.4 in /usr/local/lib/python3.8/dist-packages (from virtualenv>=20.0.24->ray) (2.6.2)\n",
      "Requirement already satisfied: importlib-resources>=1.4.0 in /usr/local/lib/python3.8/dist-packages (from jsonschema->ray) (5.10.2)\n",
      "Requirement already satisfied: pyrsistent!=0.17.0,!=0.17.1,!=0.17.2,>=0.14.0 in /usr/local/lib/python3.8/dist-packages (from jsonschema->ray) (0.19.3)\n",
      "Requirement already satisfied: chardet<5,>=3.0.2 in /usr/local/lib/python3.8/dist-packages (from requests->ray) (4.0.0)\n",
      "Requirement already satisfied: certifi>=2017.4.17 in /usr/local/lib/python3.8/dist-packages (from requests->ray) (2022.12.7)\n",
      "Requirement already satisfied: idna<3,>=2.5 in /usr/local/lib/python3.8/dist-packages (from requests->ray) (2.10)\n",
      "Requirement already satisfied: urllib3<1.27,>=1.21.1 in /usr/local/lib/python3.8/dist-packages (from requests->ray) (1.24.3)\n",
      "Requirement already satisfied: zipp>=3.1.0 in /usr/local/lib/python3.8/dist-packages (from importlib-resources>=1.4.0->jsonschema->ray) (3.11.0)\n"
     ]
    }
   ]
  },
  {
   "cell_type": "code",
   "source": [
    "!pip install tensorboardX"
   ],
   "metadata": {
    "id": "ZDfhmJALBO1p",
    "colab": {
     "base_uri": "https://localhost:8080/"
    },
    "outputId": "15f8d90e-d615-4dd6-8dfe-8973cef726ef",
    "pycharm": {
     "name": "#%%\n"
    }
   },
   "execution_count": 5,
   "outputs": [
    {
     "output_type": "stream",
     "name": "stdout",
     "text": [
      "Looking in indexes: https://pypi.org/simple, https://us-python.pkg.dev/colab-wheels/public/simple/\n",
      "Requirement already satisfied: tensorboardX in /usr/local/lib/python3.8/dist-packages (2.5.1)\n",
      "Requirement already satisfied: protobuf<=3.20.1,>=3.8.0 in /usr/local/lib/python3.8/dist-packages (from tensorboardX) (3.19.6)\n",
      "Requirement already satisfied: numpy in /usr/local/lib/python3.8/dist-packages (from tensorboardX) (1.21.6)\n"
     ]
    }
   ]
  },
  {
   "cell_type": "code",
   "source": [
    "!pip install sklearn"
   ],
   "metadata": {
    "id": "xsh1Z65UBVZ9",
    "colab": {
     "base_uri": "https://localhost:8080/"
    },
    "outputId": "a22d4d23-791c-4c69-d159-2ab6a564718f",
    "pycharm": {
     "name": "#%%\n"
    }
   },
   "execution_count": 6,
   "outputs": [
    {
     "output_type": "stream",
     "name": "stdout",
     "text": [
      "Looking in indexes: https://pypi.org/simple, https://us-python.pkg.dev/colab-wheels/public/simple/\n",
      "Requirement already satisfied: sklearn in /usr/local/lib/python3.8/dist-packages (0.0.post1)\n"
     ]
    }
   ]
  },
  {
   "cell_type": "markdown",
   "source": [
    "## Run evaluation\n",
    "\n",
    "### 1. Show Accuracy of 3 models on test datasets\n",
    "### 2. Show AAPs and AJS\n",
    "### 3. PMS requires larger computations"
   ],
   "metadata": {
    "id": "IOdg-PMm7aAb",
    "pycharm": {
     "name": "#%% md\n"
    }
   }
  },
  {
   "cell_type": "code",
   "source": [
    "import main\n",
    "\n",
    "runName=\"eval_setting\"\n",
    "\n",
    "main.main(runName)"
   ],
   "metadata": {
    "colab": {
     "base_uri": "https://localhost:8080/",
     "height": 1000,
     "referenced_widgets": [
      "1fb5adf0e6444402ad08f328287f9d01",
      "1bc1ba0c075241879307f690a364712d",
      "16f2a6fff42749eea268f8353e51c4c7",
      "b494986494cf41bea07028a4a2925fa1",
      "611f84645b7345a38ccee569a4d407ae",
      "db52c87ef9294cbbb0827085eebfc48d",
      "5844dde5f0e04bce91022d53d40aa359",
      "a2d9657eebd4432cb79efee5069af6d6",
      "0134fcde8e204c18bb3be081c0905ec6",
      "fd36db33323f449dafbe5bd7443e99c0",
      "5fcf0c78c2a448a78ec9978a0cd30237",
      "cd216c365e594febaf9ed27574625551",
      "f048a78b79e142f0acc7abea660ca45f",
      "87f80c72226144cfb172243fa41a8a7e",
      "f8059193ceb04718a66e4b3c4f7baf81",
      "cc361feff0ec46ab9f7b6442d01392ab",
      "d7f32bbd97b54d88a036d70d34502557",
      "a63a3e53d2bf4e75929d63ef64b81b54",
      "7666c13fcdd64fbd994bf4aa0b0bad1d",
      "dd7bd9454c0047588695b4d95500a11a",
      "c4c2696c58494225bddbac23fffd4fb9",
      "37ff385daa2841e6beb860a5ca45e536"
     ]
    },
    "id": "KcYoYAQYozp3",
    "outputId": "bc773769-d76c-4847-ca08-1d58b5794f6d",
    "pycharm": {
     "name": "#%%\n"
    }
   },
   "execution_count": null,
   "outputs": [
    {
     "output_type": "stream",
     "name": "stdout",
     "text": [
      "Your are running eval_setting\n",
      "\n",
      "\n",
      "************************* eval_setting *************************\n",
      "\n",
      "\n",
      "/content/drive/MyDrive/p2p_source_code/Experiments/Resnet50_18_cars/eval_setting/org/args.yaml\n",
      "Num classes (k) =  196\n"
     ]
    },
    {
     "output_type": "stream",
     "name": "stderr",
     "text": [
      "2023-02-02 10:46:56,304\tINFO worker.py:1529 -- Started a local Ray instance. View the dashboard at \u001B[1m\u001B[32mhttp://127.0.0.1:8265 \u001B[39m\u001B[22m\n",
      "Downloading: \"https://download.pytorch.org/models/resnet50-19c8e357.pth\" to ./pretrained_models/resnet50-19c8e357.pth\n"
     ]
    },
    {
     "output_type": "display_data",
     "data": {
      "text/plain": [
       "  0%|          | 0.00/97.8M [00:00<?, ?B/s]"
      ],
      "application/vnd.jupyter.widget-view+json": {
       "version_major": 2,
       "version_minor": 0,
       "model_id": "1fb5adf0e6444402ad08f328287f9d01"
      }
     },
     "metadata": {}
    },
    {
     "output_type": "stream",
     "name": "stdout",
     "text": [
      "Loaded model from  /content/drive/MyDrive/best_models/teacher_resnet50_0.7729.pth\n",
      "Multi-gpu setting\n",
      "Using GPU\n"
     ]
    },
    {
     "output_type": "stream",
     "name": "stderr",
     "text": [
      "Downloading: \"https://download.pytorch.org/models/resnet18-5c106cde.pth\" to ./pretrained_models/resnet18-5c106cde.pth\n"
     ]
    },
    {
     "output_type": "display_data",
     "data": {
      "text/plain": [
       "  0%|          | 0.00/44.7M [00:00<?, ?B/s]"
      ],
      "application/vnd.jupyter.widget-view+json": {
       "version_major": 2,
       "version_minor": 0,
       "model_id": "cd216c365e594febaf9ed27574625551"
      }
     },
     "metadata": {}
    },
    {
     "output_type": "stream",
     "name": "stdout",
     "text": [
      "Loaded model from  /content/drive/MyDrive/best_models/kd_student_0.7291.pth\n",
      "Multi-gpu setting\n",
      "Using GPU\n",
      "Loaded model from  /content/drive/MyDrive/best_models/baseline_student_0.7032.pth\n",
      "Multi-gpu setting\n",
      "Using GPU\n",
      "Start to evaluate the Accuracy on Test Datasets:\n"
     ]
    },
    {
     "output_type": "stream",
     "name": "stderr",
     "text": [
      "100%|██████████| 8041/8041 [31:42<00:00,  4.23it/s]"
     ]
    },
    {
     "output_type": "stream",
     "name": "stdout",
     "text": [
      "\n",
      "Model - teacher resnet50 - Accuracy on Test Datasets {'accuracy': 0.773038179330929}\n",
      "\n"
     ]
    },
    {
     "output_type": "stream",
     "name": "stderr",
     "text": [
      "\n",
      "100%|██████████| 8041/8041 [02:08<00:00, 62.46it/s]"
     ]
    },
    {
     "output_type": "stream",
     "name": "stdout",
     "text": [
      "\n",
      "Model - kd student resnet18 - Accuracy on Test Datasets {'accuracy': 0.7291381668946648}\n",
      "\n"
     ]
    },
    {
     "output_type": "stream",
     "name": "stderr",
     "text": [
      "\n",
      "100%|██████████| 8041/8041 [02:08<00:00, 62.53it/s]"
     ]
    },
    {
     "output_type": "stream",
     "name": "stdout",
     "text": [
      "\n",
      "Model - baseline student resnet18 - Accuracy on Test Datasets {'accuracy': 0.7032707374704639}\n",
      "\n",
      "Start to evaluate the AAPs, AJS and PMS on Test Datasets:\n"
     ]
    },
    {
     "output_type": "stream",
     "name": "stderr",
     "text": [
      "\n",
      "100%|██████████| 8041/8041 [03:19<00:00, 40.32it/s]\n",
      "100%|██████████| 8041/8041 [00:10<00:00, 758.78it/s]\n",
      "100%|██████████| 8041/8041 [00:12<00:00, 644.63it/s]\n",
      "100%|██████████| 8041/8041 [00:14<00:00, 573.88it/s]\n",
      "100%|██████████| 8041/8041 [00:12<00:00, 632.50it/s]\n",
      "100%|██████████| 8041/8041 [00:13<00:00, 585.63it/s]\n",
      "100%|██████████| 8041/8041 [00:23<00:00, 346.22it/s]\n",
      "100%|██████████| 8041/8041 [00:30<00:00, 267.83it/s]\n",
      "100%|██████████| 8041/8041 [00:42<00:00, 190.21it/s]\n"
     ]
    },
    {
     "output_type": "display_data",
     "data": {
      "text/plain": [
       "<Figure size 432x288 with 1 Axes>"
      ],
      "image/png": "[encoded data removed]"
     },
     "metadata": {
      "needs_background": "light"
     }
    },
    {
     "output_type": "display_data",
     "data": {
      "text/plain": [
       "<Figure size 432x288 with 1 Axes>"
      ],
      "image/png": "[encoded data removed]"
     },
     "metadata": {
      "needs_background": "light"
     }
    },
    {
     "output_type": "stream",
     "name": "stdout",
     "text": [
      "Distance thresholds [0.01, 0.1, 0.2, 0.45, 1.0, 3.0, 5.0, None]\n",
      "AAPs(teacher):  [0.2056958089789827, 3.1698793682377815, 6.470090784728268, 12.891182688720308, 20.478298719064792, 28.913070513617708, 31.848899390623057, 35.52990921527173]\n",
      "AAPs(baseline):  [0.13020768561124238, 2.9221489864444723, 6.306926999129462, 13.610371844297973, 25.290759855739335, 35.467852257181946, 37.80338266384778, 40.547319985076484]\n",
      "AAPs(kd):  [0.2478547444347718, 3.5668449197860963, 6.819798532520831, 12.810968784976993, 20.57691829374456, 30.265016788956597, 33.699912946150974, 39.3127720432782] \n",
      "\n",
      "\n",
      "AJS(baseline):  [0.004207602702814741, 0.1417216038531799, 0.23884161177187052, 0.35707934231574545, 0.47901650192255774, 0.6365628625707143, 0.673884033010116, 0.71385114201073]\n",
      "AJS(kd):  [0.007669029556854454, 0.17320982676348926, 0.2812541532245004, 0.4147982504315299, 0.5873543966158947, 0.7153044933084156, 0.7300824660291121, 0.7397922406496577]\n"
     ]
    },
    {
     "output_type": "stream",
     "name": "stderr",
     "text": [
      "100%|██████████| 8041/8041 [00:40<00:00, 196.40it/s]\n",
      "  0%|          | 0/1960 [00:00<?, ?it/s]\u001B[2m\u001B[33m(raylet)\u001B[0m [2023-02-02 11:30:56,324 E 1706 1706] (raylet) node_manager.cc:3097: 4 Workers (tasks / actors) killed due to memory pressure (OOM), 0 Workers crashed due to other reasons at node (ID: 9fa27ddd7a0e7bf1220c8c4f3b59e586b5be1d4cc05bc4cef1f34829, IP: 172.28.0.12) over the last time period. To see more information about the Workers killed on this node, use `ray logs raylet.out -ip 172.28.0.12`\n",
      "\u001B[2m\u001B[33m(raylet)\u001B[0m \n",
      "\u001B[2m\u001B[33m(raylet)\u001B[0m Refer to the documentation on how to address the out of memory issue: https://docs.ray.io/en/latest/ray-core/scheduling/ray-oom-prevention.html. Consider provisioning more memory on this node or reducing task parallelism by requesting more CPUs per task. To adjust the kill threshold, set the environment variable `RAY_memory_usage_threshold` when starting Ray. To disable worker killing, set the environment variable `RAY_memory_monitor_refresh_ms` to zero.\n"
     ]
    }
   ]
  }
 ]
}