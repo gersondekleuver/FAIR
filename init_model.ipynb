{
 "cells": [
  {
   "cell_type": "code",
   "execution_count": 2,
   "metadata": {},
   "outputs": [],
   "source": [
    "import numpy as np\n",
    "import sys\n",
    "import torch\n",
    "import os\n",
    "\n",
    "from lib.features import init_backbone\n",
    "from lib.protopnet.model import PPNet\n",
    "from src.utils.argument_parser import read_from_file"
   ]
  },
  {
   "cell_type": "code",
   "execution_count": 22,
   "metadata": {},
   "outputs": [],
   "source": [
    "def init_model(args_path=\"default_args.yaml\", model_type=\"teacher\", checkpoint_path=None, save_pkl=False, output_path=\"model.pkl\"):\n",
    "    \"\"\"\n",
    "    initializes a protopnet model from a checkpoint path\n",
    "    args_path: path to file with arguments about the model (default args will work for cars dataset and ppnet with resnet50 or 18)\n",
    "    model_type: \"teacher\" or \"student\"\n",
    "    checkpoint_path: file path to checkpoint\n",
    "    save_pkl: whether to save the model as a.pkl\n",
    "    output_path: only applies if saving model as pkl\n",
    "    \"\"\"\n",
    "\n",
    "    args = read_from_file(args_path)[0]\n",
    "    print(args)\n",
    "\n",
    "    if model_type == \"teacher\":\n",
    "        backbone = args.settingsConfig.Teacherbackbone\n",
    "    elif model_type == \"student\":\n",
    "        backbone = args.settingsConfig.Studentbackbone\n",
    "    else:\n",
    "        print(\"this model type is not supported\") \n",
    "        return\n",
    "\n",
    "    use_chkpt_opt = args.settingsConfig.useCheckpointOptimizer\n",
    "\n",
    "    features, trainable_param_names = init_backbone(backbone)\n",
    "\n",
    "    model = PPNet(num_classes=NUM_CLASSES, feature_net=features, args=args.settingsConfig)\n",
    "\n",
    "    if checkpoint_path is not None:\n",
    "        checkpoint = torch.load(checkpoint_path) \n",
    "        model = checkpoint['model']\n",
    "        print(\"Loaded model from \", checkpoint_path)\n",
    "\n",
    "        if not use_chkpt_opt:\n",
    "            checkpoint = None\n",
    "    else:\n",
    "        checkpoint = None\n",
    "\n",
    "    if args.common.mgpus:\n",
    "        print(\"Multi-gpu setting\")\n",
    "        model = torch.nn.DataParallel(model)\n",
    "\n",
    "    if args.common.cuda > 0:\n",
    "        print(\"Using GPU\")\n",
    "        model.cuda()\n",
    "\n",
    "    if save_pkl:\n",
    "        torch.save(model, output_path)\n",
    "        print(f\"Model saved at {output_path}\")\n",
    "\n",
    "    return model"
   ]
  },
  {
   "cell_type": "code",
   "execution_count": 23,
   "metadata": {},
   "outputs": [
    {
     "name": "stdout",
     "output_type": "stream",
     "text": [
      "{'dataConfig': {'imgSize': 224, 'loaderName': 'cars', 'augment': False}, 'settingsConfig': {'imgSize': 224, 'numFeatures': 256, 'prototypicalModel': 'protopnet', 'PrototypeActivationFunction': 'log', 'useCheckpointOptimizer': True, 'Teacherbackbone': {'prototypicalModel': 'protopnet', 'name': 'resnet50', 'pretrained': True}, 'Studentbackbone': {'prototypicalModel': 'protopnet', 'name': 'resnet18', 'pretrained': True}, 'protoPNet': {'numPrototypes': 1960, 'classSpecific': True, 'W1': 1, 'H1': 1}, 'train': {'seed': 12}}, 'common': {'cuda': True, 'mgpus': True, 'numWorkers': 0, 'testBatchSize': 1, 'testNumWorkers': 0, 'trainBatchSize': 4, 'trainNumWorkers': 1}}\n",
      "Loaded model from  ../saved_models/teacher_protopnet_22_0.7737.pth\n",
      "Multi-gpu setting\n",
      "Using GPU\n",
      "Model saved at model.pkl\n"
     ]
    }
   ],
   "source": [
    "NUM_CLASSES = 196\n",
    "model = init_model(checkpoint_path=\"../saved_models/teacher_protopnet_22_0.7737.pth\", save_pkl=True)"
   ]
  },
  {
   "cell_type": "code",
   "execution_count": null,
   "metadata": {},
   "outputs": [],
   "source": []
  },
  {
   "cell_type": "code",
   "execution_count": null,
   "metadata": {},
   "outputs": [],
   "source": []
  }
 ],
 "metadata": {
  "kernelspec": {
   "display_name": "pro2pro",
   "language": "python",
   "name": "python3"
  },
  "language_info": {
   "codemirror_mode": {
    "name": "ipython",
    "version": 3
   },
   "file_extension": ".py",
   "mimetype": "text/x-python",
   "name": "python",
   "nbconvert_exporter": "python",
   "pygments_lexer": "ipython3",
   "version": "3.6.13"
  },
  "orig_nbformat": 4,
  "vscode": {
   "interpreter": {
    "hash": "6a68836bd723be911698904045f3b0f6033ef55d97aa5a57b1e1d4487942e23c"
   }
  }
 },
 "nbformat": 4,
 "nbformat_minor": 2
}
